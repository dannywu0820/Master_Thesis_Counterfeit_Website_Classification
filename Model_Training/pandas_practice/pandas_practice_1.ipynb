{
 "cells": [
  {
   "cell_type": "markdown",
   "metadata": {
    "collapsed": true
   },
   "source": [
    "# Table of Contents\n",
    "1. [Topic_1](#topic_1)\n",
    "    * [Load Data](#load_data)\n",
    "    * [Data Preprocessing](#data_preprocessing)\n",
    "2. [Experiment 1](#exp_1)\n",
    "    * [Analysis](#a_1)\n",
    "    * [Visualization](#v_1)\n",
    "3. [Exp.2: Ways to Calculate Outliers](#exp_2)\n",
    "    * [Gaussian](#a_2)\n",
    "    * [Non Gaussion](#a_2_non)\n",
    "4. [Unused](#unused)"
   ]
  },
  {
   "cell_type": "markdown",
   "metadata": {
    "collapsed": true
   },
   "source": [
    "## Topic 1 <a name=\"topic_1\"></a>\n",
    "> Some introduction text, formatted in heading 2 style"
   ]
  },
  {
   "cell_type": "code",
   "execution_count": 1,
   "metadata": {
    "collapsed": true
   },
   "outputs": [],
   "source": [
    "import sys #only needed to determine Python version number\n",
    "import pandas as pd #this is how I usually import pandas\n",
    "import matplotlib.pyplot as plt\n",
    "import matplotlib #only needed to determine Matplotlib version number\n",
    "\n",
    "# Enable inline plotting\n",
    "%matplotlib inline"
   ]
  },
  {
   "cell_type": "markdown",
   "metadata": {},
   "source": [
    "### Load Data <a name=\"load_data\"></a>"
   ]
  },
  {
   "cell_type": "code",
   "execution_count": 2,
   "metadata": {},
   "outputs": [
    {
     "name": "stdout",
     "output_type": "stream",
     "text": [
      "Index(['Year', 'Player', 'Pos', 'Age', 'Tm', 'G', 'GS', 'MP', 'PER', 'TS%',\n",
      "       '3PAr', 'FTr', 'ORB%', 'DRB%', 'TRB%', 'AST%', 'STL%', 'BLK%', 'TOV%',\n",
      "       'USG%', 'OWS', 'DWS', 'WS', 'WS/48', 'OBPM', 'DBPM', 'BPM', 'VORP',\n",
      "       'FG', 'FGA', 'FG%', '3P', '3PA', '3P%', '2P', '2PA', '2P%', 'eFG%',\n",
      "       'FT', 'FTA', 'FT%', 'ORB', 'DRB', 'TRB', 'AST', 'STL', 'BLK', 'TOV',\n",
      "       'PF', 'PTS'],\n",
      "      dtype='object')\n",
      "RangeIndex(start=0, stop=24691, step=1)\n",
      "Index(['Year', 'Player', 'Tm', 'Pos', 'PTS', 'G', 'GS', 'FG%', '3P%', '2P%',\n",
      "       'FT%', 'TRB%', 'AST%', 'STL%', 'BLK%', 'TOV%', 'PF'],\n",
      "      dtype='object')\n"
     ]
    },
    {
     "data": {
      "text/html": [
       "<div>\n",
       "<style scoped>\n",
       "    .dataframe tbody tr th:only-of-type {\n",
       "        vertical-align: middle;\n",
       "    }\n",
       "\n",
       "    .dataframe tbody tr th {\n",
       "        vertical-align: top;\n",
       "    }\n",
       "\n",
       "    .dataframe thead th {\n",
       "        text-align: right;\n",
       "    }\n",
       "</style>\n",
       "<table border=\"1\" class=\"dataframe\">\n",
       "  <thead>\n",
       "    <tr style=\"text-align: right;\">\n",
       "      <th></th>\n",
       "      <th>Year</th>\n",
       "      <th>Player</th>\n",
       "      <th>Tm</th>\n",
       "      <th>Pos</th>\n",
       "      <th>PTS</th>\n",
       "      <th>G</th>\n",
       "      <th>GS</th>\n",
       "      <th>FG%</th>\n",
       "      <th>3P%</th>\n",
       "      <th>2P%</th>\n",
       "      <th>FT%</th>\n",
       "      <th>TRB%</th>\n",
       "      <th>AST%</th>\n",
       "      <th>STL%</th>\n",
       "      <th>BLK%</th>\n",
       "      <th>TOV%</th>\n",
       "      <th>PF</th>\n",
       "    </tr>\n",
       "  </thead>\n",
       "  <tbody>\n",
       "    <tr>\n",
       "      <th>24686</th>\n",
       "      <td>2017.0</td>\n",
       "      <td>Cody Zeller</td>\n",
       "      <td>CHO</td>\n",
       "      <td>PF</td>\n",
       "      <td>639.0</td>\n",
       "      <td>62.0</td>\n",
       "      <td>58.0</td>\n",
       "      <td>0.571</td>\n",
       "      <td>0.000</td>\n",
       "      <td>0.572</td>\n",
       "      <td>0.679</td>\n",
       "      <td>12.9</td>\n",
       "      <td>9.1</td>\n",
       "      <td>1.8</td>\n",
       "      <td>3.0</td>\n",
       "      <td>10.9</td>\n",
       "      <td>189.0</td>\n",
       "    </tr>\n",
       "    <tr>\n",
       "      <th>24687</th>\n",
       "      <td>2017.0</td>\n",
       "      <td>Tyler Zeller</td>\n",
       "      <td>BOS</td>\n",
       "      <td>C</td>\n",
       "      <td>178.0</td>\n",
       "      <td>51.0</td>\n",
       "      <td>5.0</td>\n",
       "      <td>0.494</td>\n",
       "      <td>0.000</td>\n",
       "      <td>0.497</td>\n",
       "      <td>0.564</td>\n",
       "      <td>13.2</td>\n",
       "      <td>12.2</td>\n",
       "      <td>0.7</td>\n",
       "      <td>3.3</td>\n",
       "      <td>10.2</td>\n",
       "      <td>61.0</td>\n",
       "    </tr>\n",
       "    <tr>\n",
       "      <th>24688</th>\n",
       "      <td>2017.0</td>\n",
       "      <td>Stephen Zimmerman</td>\n",
       "      <td>ORL</td>\n",
       "      <td>C</td>\n",
       "      <td>23.0</td>\n",
       "      <td>19.0</td>\n",
       "      <td>0.0</td>\n",
       "      <td>0.323</td>\n",
       "      <td>NaN</td>\n",
       "      <td>0.323</td>\n",
       "      <td>0.600</td>\n",
       "      <td>17.6</td>\n",
       "      <td>5.3</td>\n",
       "      <td>0.9</td>\n",
       "      <td>3.7</td>\n",
       "      <td>8.3</td>\n",
       "      <td>17.0</td>\n",
       "    </tr>\n",
       "    <tr>\n",
       "      <th>24689</th>\n",
       "      <td>2017.0</td>\n",
       "      <td>Paul Zipser</td>\n",
       "      <td>CHI</td>\n",
       "      <td>SF</td>\n",
       "      <td>240.0</td>\n",
       "      <td>44.0</td>\n",
       "      <td>18.0</td>\n",
       "      <td>0.398</td>\n",
       "      <td>0.333</td>\n",
       "      <td>0.451</td>\n",
       "      <td>0.775</td>\n",
       "      <td>8.0</td>\n",
       "      <td>6.1</td>\n",
       "      <td>0.9</td>\n",
       "      <td>1.5</td>\n",
       "      <td>14.4</td>\n",
       "      <td>78.0</td>\n",
       "    </tr>\n",
       "    <tr>\n",
       "      <th>24690</th>\n",
       "      <td>2017.0</td>\n",
       "      <td>Ivica Zubac</td>\n",
       "      <td>LAL</td>\n",
       "      <td>C</td>\n",
       "      <td>284.0</td>\n",
       "      <td>38.0</td>\n",
       "      <td>11.0</td>\n",
       "      <td>0.529</td>\n",
       "      <td>0.000</td>\n",
       "      <td>0.536</td>\n",
       "      <td>0.653</td>\n",
       "      <td>14.3</td>\n",
       "      <td>8.1</td>\n",
       "      <td>1.1</td>\n",
       "      <td>4.4</td>\n",
       "      <td>10.4</td>\n",
       "      <td>66.0</td>\n",
       "    </tr>\n",
       "  </tbody>\n",
       "</table>\n",
       "</div>"
      ],
      "text/plain": [
       "         Year             Player   Tm Pos    PTS     G    GS    FG%    3P%  \\\n",
       "24686  2017.0        Cody Zeller  CHO  PF  639.0  62.0  58.0  0.571  0.000   \n",
       "24687  2017.0       Tyler Zeller  BOS   C  178.0  51.0   5.0  0.494  0.000   \n",
       "24688  2017.0  Stephen Zimmerman  ORL   C   23.0  19.0   0.0  0.323    NaN   \n",
       "24689  2017.0        Paul Zipser  CHI  SF  240.0  44.0  18.0  0.398  0.333   \n",
       "24690  2017.0        Ivica Zubac  LAL   C  284.0  38.0  11.0  0.529  0.000   \n",
       "\n",
       "         2P%    FT%  TRB%  AST%  STL%  BLK%  TOV%     PF  \n",
       "24686  0.572  0.679  12.9   9.1   1.8   3.0  10.9  189.0  \n",
       "24687  0.497  0.564  13.2  12.2   0.7   3.3  10.2   61.0  \n",
       "24688  0.323  0.600  17.6   5.3   0.9   3.7   8.3   17.0  \n",
       "24689  0.451  0.775   8.0   6.1   0.9   1.5  14.4   78.0  \n",
       "24690  0.536  0.653  14.3   8.1   1.1   4.4  10.4   66.0  "
      ]
     },
     "execution_count": 2,
     "metadata": {},
     "output_type": "execute_result"
    }
   ],
   "source": [
    "def readData(location):\n",
    "    try:\n",
    "        if location.endswith('.txt') or location.endswith('.csv'):\n",
    "            return pd.read_csv(location)\n",
    "        elif location.endswith('.xlsx'):\n",
    "            return pd.read_excel(location)\n",
    "        else:\n",
    "            raise TypeError\n",
    "    except TypeError:\n",
    "        print(\"invalid file type\")\n",
    "    except:\n",
    "        print(\"other exceptions\")\n",
    "\n",
    "location = './dataset/Seasons_Stats.csv'        \n",
    "players_all = readData(location) #since 1995\n",
    "players_all = players_all.drop(columns=['Unnamed: 0', 'blanl', 'blank2'])\n",
    "print(players_all.columns)\n",
    "print(players_all.index)\n",
    "players_all = players_all.loc[:, ['Year', 'Player', 'Tm', 'Pos', 'PTS', 'G', 'GS', 'FG%', '3P%', '2P%', 'FT%', 'TRB%', 'AST%', 'STL%', 'BLK%', 'TOV%', 'PF']]\n",
    "print(players_all.columns)\n",
    "players_2017 = players_all.loc[(players_all[\"Year\"] == 2017), :]\n",
    "players_2017.tail()"
   ]
  },
  {
   "cell_type": "markdown",
   "metadata": {},
   "source": [
    "### Data Preprocessing <a name=\"data_preprocessing\"></a>"
   ]
  },
  {
   "cell_type": "code",
   "execution_count": 3,
   "metadata": {},
   "outputs": [
    {
     "name": "stdout",
     "output_type": "stream",
     "text": [
      "1.0\n",
      "['SG' 'PF' 'C' 'SF' 'PG' 'PF-C']\n",
      "Player names in total: 595, unique: 486\n",
      "Player names in total: 486, unique: 486\n"
     ]
    },
    {
     "name": "stderr",
     "output_type": "stream",
     "text": [
      "/usr/local/lib/python3.5/dist-packages/pandas/core/indexing.py:537: SettingWithCopyWarning: \n",
      "A value is trying to be set on a copy of a slice from a DataFrame.\n",
      "Try using .loc[row_indexer,col_indexer] = value instead\n",
      "\n",
      "See the caveats in the documentation: http://pandas.pydata.org/pandas-docs/stable/indexing.html#indexing-view-versus-copy\n",
      "  self.obj[item] = s\n"
     ]
    }
   ],
   "source": [
    "'''players_2017.info()\n",
    "players_2017[\"PTS\"].describe() #descrpitive staitistics'''\n",
    "'''type(players_2017)\n",
    "players_2017.dtypes\n",
    "players_2017[\"Player\"].dtype'''\n",
    "\n",
    "players_all.head(1)[\"3P%\"]\n",
    "print(players_all[\"3P%\"].max())\n",
    "sort_by_3pt = players_all.sort_values(['3P%'], ascending=False)\n",
    "sort_by_3pt.head(1)\n",
    "\n",
    "#del players_2017[\"Year\"]\n",
    "player_positions = players_2017[\"Pos\"].unique()\n",
    "print(player_positions)\n",
    "players_2017.groupby([\"Pos\"]).size()\n",
    "players_2017.loc[:, \"Pos\"] = players_2017[\"Pos\"].replace(to_replace=\"PF-C\", value=\"PF\")\n",
    "\n",
    "player_names = players_2017[\"Player\"].unique()\n",
    "print(\"Player names in total: \"+str(len(players_2017))+\", unique: \"+str(len(player_names)))\n",
    "players_2017.groupby([\"Player\"]).size()\n",
    "is_duplicated = players_2017.duplicated(subset='Player', keep='first')\n",
    "players_2017 = players_2017.loc[~is_duplicated, :]\n",
    "player_names = players_2017[\"Player\"].unique()\n",
    "print(\"Player names in total: \"+str(len(players_2017))+\", unique: \"+str(len(player_names)))\n",
    "\n",
    "\n"
   ]
  },
  {
   "cell_type": "markdown",
   "metadata": {},
   "source": [
    "## Experiment 1  <a name=\"exp_1\"></a>\n",
    "> The first paragraph text"
   ]
  },
  {
   "cell_type": "markdown",
   "metadata": {},
   "source": [
    "###  Analysis <a name=\"a_1\"></a>\n",
    "> This is a sub paragraph, formatted in heading 3 style"
   ]
  },
  {
   "cell_type": "code",
   "execution_count": 6,
   "metadata": {
    "collapsed": true
   },
   "outputs": [],
   "source": [
    "gb_team_pos = players_2017.groupby([\"Tm\", \"Pos\"])\n",
    "team_components = gb_team_pos.size()"
   ]
  },
  {
   "cell_type": "markdown",
   "metadata": {},
   "source": [
    "### Visualization <a name=\"v_1\"></a>\n",
    "> The second paragraph text"
   ]
  },
  {
   "cell_type": "code",
   "execution_count": 73,
   "metadata": {},
   "outputs": [
    {
     "data": {
      "image/png": "[encoded data removed]",
      "text/plain": [
       "<matplotlib.figure.Figure at 0x7f0387c7f710>"
      ]
     },
     "metadata": {},
     "output_type": "display_data"
    }
   ],
   "source": [
    "#figure, subplots, http://www.scipy-lectures.org/intro/index.html\n",
    "\n",
    "fig, ax = plt.subplots(nrows=4, ncols=8, figsize=(20,10))\n",
    "index = 0\n",
    "for team in team_components.index.levels[0]:\n",
    "    #print(team_components[team].values)\n",
    "    x = team_components[team].index\n",
    "    y = team_components[team].values\n",
    "    ax_row, ax_col = int(index/8), int(index%8)\n",
    "    ax[ax_row][ax_col].bar(x, y)\n",
    "    ax[ax_row][ax_col].set_title(team)\n",
    "    index+=1\n",
    "plt.subplots_adjust(wspace=0.4, hspace=0.5)\n",
    "plt.suptitle(\"Team Componets\", size=30)\n",
    "plt.show()"
   ]
  },
  {
   "cell_type": "markdown",
   "metadata": {},
   "source": [
    "## Exp. 2: Ways to Calculate Outliers <a name=\"exp_2\"></a>"
   ]
  },
  {
   "cell_type": "markdown",
   "metadata": {},
   "source": [
    "### Gaussian <a name=\"a_2\"><a>\n",
    "> Average and Standard Deviation are only valid for gaussian distributions"
   ]
  },
  {
   "cell_type": "code",
   "execution_count": 76,
   "metadata": {},
   "outputs": [
    {
     "data": {
      "text/plain": [
       "24096    False\n",
       "24097    False\n",
       "24100    False\n",
       "24101    False\n",
       "24102    False\n",
       "24103    False\n",
       "24104    False\n",
       "24105    False\n",
       "24106    False\n",
       "24107    False\n",
       "24108    False\n",
       "24109    False\n",
       "24110    False\n",
       "24113    False\n",
       "24114    False\n",
       "24115     True\n",
       "24116     True\n",
       "24117    False\n",
       "24118    False\n",
       "24119    False\n",
       "24120    False\n",
       "24121    False\n",
       "24122    False\n",
       "24123    False\n",
       "24124    False\n",
       "24125    False\n",
       "24126    False\n",
       "24127     True\n",
       "24128    False\n",
       "24131    False\n",
       "         ...  \n",
       "24653    False\n",
       "24654     True\n",
       "24655    False\n",
       "24656    False\n",
       "24657    False\n",
       "24658     True\n",
       "24659    False\n",
       "24660    False\n",
       "24661    False\n",
       "24664    False\n",
       "24667    False\n",
       "24670    False\n",
       "24671    False\n",
       "24672    False\n",
       "24675    False\n",
       "24676    False\n",
       "24677    False\n",
       "24678    False\n",
       "24679    False\n",
       "24680    False\n",
       "24681    False\n",
       "24682    False\n",
       "24683    False\n",
       "24684    False\n",
       "24685    False\n",
       "24686    False\n",
       "24687    False\n",
       "24688    False\n",
       "24689    False\n",
       "24690    False\n",
       "Name: PTS, Length: 486, dtype: bool"
      ]
     },
     "execution_count": 76,
     "metadata": {},
     "output_type": "execute_result"
    }
   ],
   "source": [
    "pts = players_2017[\"PTS\"]\n",
    "outlier = pts.transform(lambda x: abs(x-x.mean()) > 1.96*x.std())\n",
    "#fig_2, ax_2 = plt.subplots(figsize=(20,10))\n",
    "'''\n",
    "newdf = df.copy()\n",
    "\n",
    "StateMonth = newdf.groupby(['State', lambda x: x.month])\n",
    "\n",
    "def s(group):\n",
    "    group['x-Mean'] = abs(group['Revenue'] - group['Revenue'].mean())\n",
    "    group['1.96*std'] = 1.96*group['Revenue'].std()  \n",
    "    group['Outlier'] = abs(group['Revenue'] - group['Revenue'].mean()) > 1.96*group['Revenue'].std()\n",
    "    return group\n",
    "\n",
    "Newdf2 = StateMonth.apply(s)\n",
    "'''\n",
    "outlier"
   ]
  },
  {
   "cell_type": "code",
   "execution_count": null,
   "metadata": {
    "collapsed": true
   },
   "outputs": [],
   "source": [
    "outlier = pts.transform(lambda x: abs(x-x.mean()) > 1.96*x.std())\n",
    "'''\n",
    "newdf = df.copy()\n",
    "\n",
    "State = newdf.groupby('State')\n",
    "\n",
    "newdf['Lower'] = State['Revenue'].transform( lambda x: x.quantile(q=.25) - (1.5*(x.quantile(q=.75)-x.quantile(q=.25))) )\n",
    "newdf['Upper'] = State['Revenue'].transform( lambda x: x.quantile(q=.75) + (1.5*(x.quantile(q=.75)-x.quantile(q=.25))) )\n",
    "newdf['Outlier'] = (newdf['Revenue'] < newdf['Lower']) | (newdf['Revenue'] > newdf['Upper'])\n",
    "'''"
   ]
  },
  {
   "cell_type": "markdown",
   "metadata": {
    "collapsed": true
   },
   "source": [
    "## Unused <a name=\"unused\"></a>"
   ]
  },
  {
   "cell_type": "code",
   "execution_count": null,
   "metadata": {
    "collapsed": true
   },
   "outputs": [],
   "source": [
    "'''\n",
    "df.stack()\n",
    "df.unstack()\n",
    "df.T\n",
    "df.loc[df.index[5:],'col']\n",
    "YearMonth = ALL.groupby([lambda x: x.year, lambda x: x.month])\n",
    "df.sort_index()\n",
    "pd.concat()\n",
    "df.apply()\n",
    "series.transform()\n",
    "idx = pd.date_range('1/1/2012', periods=10, freq='MS')\n",
    "'''"
   ]
  }
 ],
 "metadata": {
  "kernelspec": {
   "display_name": "Python 3",
   "language": "python",
   "name": "python3"
  },
  "language_info": {
   "codemirror_mode": {
    "name": "ipython",
    "version": 3
   },
   "file_extension": ".py",
   "mimetype": "text/x-python",
   "name": "python",
   "nbconvert_exporter": "python",
   "pygments_lexer": "ipython3",
   "version": "3.5.2"
  }
 },
 "nbformat": 4,
 "nbformat_minor": 2
}
